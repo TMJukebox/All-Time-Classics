{
  "nbformat": 4,
  "nbformat_minor": 0,
  "metadata": {
    "colab": {
      "provenance": [],
      "include_colab_link": true
    },
    "kernelspec": {
      "name": "python3",
      "display_name": "Python 3"
    }
  },
  "cells": [
    {
      "cell_type": "markdown",
      "metadata": {
        "id": "view-in-github",
        "colab_type": "text"
      },
      "source": [
        "<a href=\"https://colab.research.google.com/github/TMJukebox/All-Time-Classics/blob/master/CS3793_5233_assignment1_abc123.ipynb\" target=\"_parent\"><img src=\"https://colab.research.google.com/assets/colab-badge.svg\" alt=\"Open In Colab\"/></a>"
      ]
    },
    {
      "cell_type": "markdown",
      "metadata": {
        "id": "9wUL_Fy5qUDI"
      },
      "source": [
        "# UTSA CS 3793/5233: Assignment-1\n",
        "\n",
        "**Last Name - First Name - (abc123)**\n",
        "\n",
        "\n",
        "\n",
        "\n"
      ]
    },
    {
      "cell_type": "markdown",
      "metadata": {
        "id": "NM8b9KVYsETT"
      },
      "source": [
        "## Learning Objectives\n",
        "\n",
        "\n",
        "*   Read data from a file and Create a graph\n",
        "*   Implement Uninformed & Informed searching strategies\n",
        "*   Apply different searching strategies for the given problem\n",
        "*   Analyze and Compare the searching strategies\n"
      ]
    },
    {
      "cell_type": "markdown",
      "metadata": {
        "id": "LzR4Ic34zJlT"
      },
      "source": [
        "## Description\n",
        "\n",
        "This assignment is focused on **python file reading, graph creation** and implementation of **search algorithms**.\n",
        "In the following sections, you will complete a series of tasks for a made up problem of *Coronavirus in Texas*.\n",
        "\n",
        "*   Coronavirus is non-discriminatory, in the sense that it can spread from one city to any other city. The only goal of the virus is to spread to all cities in Texas. Find a possible way for the virus to spread (Uninformed Search).\n",
        "*   To counter the effect of the virus, vaccine needs to be distributed to all cities. One city has more demand than supply, whereas one city has a shortage of vaccines. The goal is to find an **optimal** strategy to transport the vaccine (Informed Search) from the city with high supply (low demand) to the city with low supply (high demand).\n",
        "\n",
        "The base structure and comments are provided on what should be done. You can use some libraries that help support you for the successful completion of the assignment. However, you **CANNOT** use a complete library for the search algorithms. You can get pieces of code from online, but please cite the source properly.\n"
      ]
    },
    {
      "cell_type": "markdown",
      "metadata": {
        "id": "YeYRnesWqvLm"
      },
      "source": [
        "#Reading Data Files & Creating a 2D Graph\n",
        "\n",
        "##(45 points)\n",
        "\n",
        "In this section, you will write code to read the data files provided, cities.csv and distances.csv, and create a 2D graph consisting of nodes and edges. The goal is to use this graph for the 2 search agents that you will create in the next section.\n",
        "\n",
        "Provided with this lab, on Blackboard, you will find 2 csv files:\n",
        "\n",
        "*   **cities.csv** - This file contains a list of coordinates for selected cities in Texas, in the following format:\n",
        "```\n",
        "San Antonio,29.4685,-98.5254\n",
        "```\n",
        "The above line means that San Antonio is located at the latitude and longitude of 29.4685 N and 98.5254 W respectively. Note that the '-ve' sign denotes 'S' for latitude and 'W' for longitude. While performing calculations you will need to ignore the sign.\n",
        "\n",
        "*   **distances.csv** - This file contains distance values between two cities of Texas, if a path exists, in the following format:\n",
        "```\n",
        "San Antonio,New Braunfels,30.80876734\n",
        "```\n",
        "The above line denotes that there should be an edge between *San Antonio* and *New Braunfels* and the weight on that edge, i.e. the distance, is *30.80876734*.\n",
        "\n",
        "In the code blocks below, handle the logic for the graph. Load the graph data from the give files and display a 2D graph of the given data, with labeled nodes and edges. Create as many functions or code blocks as needed.\n",
        "\n",
        "##Extra Credit (4 points)\n",
        "\n",
        "Overlay the 2D graph on an image of the Texas state map.\n",
        "\n",
        "\n",
        "\n"
      ]
    },
    {
      "cell_type": "code",
      "metadata": {
        "id": "f9apbZGptej6",
        "colab": {
          "base_uri": "https://localhost:8080/"
        },
        "outputId": "5cce8795-c759-41fe-a58a-1fb0a76b3161"
      },
      "source": [
        "# Add only your imports here\n",
        "\n",
        "import pandas as pd\n",
        "import matplotlib.pyplot as plt\n",
        "from queue import PriorityQueue\n",
        "import geopy.distance\n",
        "from google.colab import drive\n",
        "drive.mount('/content/drive')"
      ],
      "execution_count": 1,
      "outputs": [
        {
          "output_type": "stream",
          "name": "stdout",
          "text": [
            "Drive already mounted at /content/drive; to attempt to forcibly remount, call drive.mount(\"/content/drive\", force_remount=True).\n"
          ]
        }
      ]
    },
    {
      "cell_type": "code",
      "metadata": {
        "id": "YdPwgSBOtb1P"
      },
      "source": [
        "# Assume that the data files are in the following folder -- THIS WILL BE USED BY THE TA\n",
        "basePath = \"/content/drive/MyDrive/Colab Notebooks/Artificial Intelligence/Data\"\n"
      ],
      "execution_count": 2,
      "outputs": []
    },
    {
      "cell_type": "code",
      "metadata": {
        "id": "C9-Nvg_KUN4o",
        "colab": {
          "base_uri": "https://localhost:8080/"
        },
        "outputId": "b20ff9be-ac88-4374-a2df-02306645564f"
      },
      "source": [
        "# Load the graph data from the files# Load the graph data from the files\n",
        "#read in cities.csv from the basePath folder\n",
        "cities = pd.read_csv(basePath + \"/cities.csv\", header=None, names=['City', 'Latitude', 'Longitude'])\n",
        "#read in distances.csv from the basePath folder\n",
        "distances = pd.read_csv(basePath + \"/distances.csv\", header=None, names=['City1', 'City2', 'Distance'])\n",
        "\n",
        "#test to see if the data was read in correctly\n",
        "print(cities)\n",
        "print(distances)"
      ],
      "execution_count": 3,
      "outputs": [
        {
          "output_type": "stream",
          "name": "stdout",
          "text": [
            "               City  Latitude  Longitude\n",
            "0           Abilene   32.4543   -99.7384\n",
            "1             Alice   27.7556   -98.0653\n",
            "2          Amarillo   35.1989  -101.8310\n",
            "3            Austin   30.3006   -97.7517\n",
            "4          Beaumont   30.0850   -94.1451\n",
            "5       Brownsville   25.9980   -97.4565\n",
            "6   College Station   30.5852   -96.2960\n",
            "7          Columbus   29.7055   -96.5563\n",
            "8    Corpus Christi   27.7261   -97.3755\n",
            "9           Dalhart   36.0579  -102.5123\n",
            "10           Dallas   32.7936   -96.7662\n",
            "11          Del Rio   29.3708  -100.8800\n",
            "12          El Paso   31.8479  -106.4309\n",
            "13       Fort Worth   32.7812   -97.3472\n",
            "14        Galveston   29.5112   -95.1979\n",
            "15         Gonzalez   29.5126   -97.4472\n",
            "16          Houston   29.7869   -95.3905\n",
            "17    Jamaica Beach   29.1905   -94.9801\n",
            "18           Kenedy   28.8176   -97.8518\n",
            "19           Laredo   27.5617   -99.4874\n",
            "20          Lubbock   33.5642  -101.8871\n",
            "21          McAllen   26.2273   -98.2471\n",
            "22          Midland   32.0249  -102.1137\n",
            "23    New Braunfels   29.6997   -98.1148\n",
            "24           Odessa   31.8831  -102.3406\n",
            "25        Palestine   31.7544   -95.6471\n",
            "26       Round Rock   30.5254   -97.6659\n",
            "27       San Angelo   31.4426  -100.4501\n",
            "28      San Antonio   29.4658   -98.5254\n",
            "29       San Marcos   29.8736   -97.9380\n",
            "30           Seguin   29.5891   -97.9661\n",
            "31       Sugar Land   29.5935   -95.6357\n",
            "32           Temple   31.1076   -97.3894\n",
            "33        Texarkana   33.4487   -94.0815\n",
            "34     Three Rivers   28.4668   -98.1784\n",
            "35           Uvalde   29.2153   -99.7782\n",
            "36         Victoria   28.8285   -96.9850\n",
            "37             Waco   31.5597   -97.1882\n",
            "38    Wichita Falls   33.9072   -98.5290\n",
            "              City1            City2    Distance\n",
            "0        San Angelo          Midland  112.283423\n",
            "1        San Angelo          Lubbock  185.113579\n",
            "2        San Angelo          Abilene   95.269070\n",
            "3        San Angelo      San Antonio  210.849482\n",
            "4       San Antonio    New Braunfels   30.808767\n",
            "5       San Antonio           Seguin   33.992046\n",
            "6       San Antonio     Three Rivers   74.509098\n",
            "7       San Antonio           Uvalde   82.709939\n",
            "8            Austin       San Marcos   30.717426\n",
            "9            Austin       Round Rock   18.464010\n",
            "10           Austin  College Station  106.758822\n",
            "11           Austin          Houston  165.907654\n",
            "12           Temple             Waco   35.942526\n",
            "13  College Station             Waco   97.827871\n",
            "14  College Station          Houston   99.209177\n",
            "15          Houston         Beaumont   99.579513\n",
            "16          Houston        Galveston   65.021400\n",
            "17          Houston         Columbus   72.515122\n",
            "18          Houston       Sugar Land   59.135783\n",
            "19         Victoria         Gonzalez   60.372309\n",
            "20         Gonzalez           Seguin   33.423492\n",
            "21   Corpus Christi         Victoria   89.121856\n",
            "22   Corpus Christi     Three Rivers   81.177020\n",
            "23            Alice           Laredo   98.544311\n",
            "24            Alice     Three Rivers   51.268617\n",
            "25            Alice          McAllen  113.615640\n",
            "26           Laredo          McAllen  144.300134\n",
            "27          Del Rio           Uvalde   70.275704\n",
            "28          El Paso           Odessa  325.840836\n",
            "29          McAllen      Brownsville   59.205998\n",
            "30             Waco        Palestine  117.156828\n",
            "31             Waco       Fort Worth  106.091471\n",
            "32             Waco           Dallas   98.630060\n",
            "33           Dallas       Fort Worth   39.039434\n",
            "34          Lubbock          Midland  117.090341\n",
            "35          Lubbock         Amarillo  122.982793\n",
            "36         Amarillo          Dalhart   85.072388\n",
            "37       Fort Worth    Wichita Falls  116.731190\n",
            "38          Midland           Odessa   24.066903\n",
            "39       San Marcos    New Braunfels   18.489486\n",
            "40       San Marcos         Gonzalez   42.199722\n",
            "41    New Braunfels           Seguin   15.280731\n",
            "42         Columbus           Seguin   89.604039\n",
            "43        Galveston    Jamaica Beach   15.732467\n",
            "44        Texarkana           Dallas  178.755100\n",
            "45     Three Rivers           Kenedy   33.254480\n",
            "46       Round Rock           Temple   49.723892\n"
          ]
        }
      ]
    },
    {
      "cell_type": "code",
      "metadata": {
        "id": "HsPCrkwIn7MN",
        "colab": {
          "base_uri": "https://localhost:8080/",
          "height": 447
        },
        "outputId": "e67362df-8997-4bd6-903f-4d416ad91462"
      },
      "source": [
        "# Display a 2D graph of the given data.\n",
        "plt.scatter(cities['Longitude'], cities['Latitude'], marker='o')\n"
      ],
      "execution_count": 4,
      "outputs": [
        {
          "output_type": "execute_result",
          "data": {
            "text/plain": [
              "<matplotlib.collections.PathCollection at 0x7fc193e17760>"
            ]
          },
          "metadata": {},
          "execution_count": 4
        },
        {
          "output_type": "display_data",
          "data": {
            "text/plain": [
              "<Figure size 640x480 with 1 Axes>"
            ],
            "image/png": "[encoded data removed]"
          },
          "metadata": {}
        }
      ]
    },
    {
      "cell_type": "markdown",
      "metadata": {
        "id": "onnqJYTEq0l3"
      },
      "source": [
        "#Virus Spread - Uninformed Search Agent\n",
        "\n",
        "##(40 points)\n",
        "\n",
        "In this section, you will use the graph created in the previous section and create an *uninformed search* agent that will print the path how the virus will spread to all the provided Texas cities. The first confirmed case of the virus was in **Three Rivers** and starts spreading from there. The virus does not discriminate and it needs to spread to all the cities of Texas.\n",
        "\n",
        "In the following code block, write code to implement **any** uninformed search strategy. You are free to create more code blocks if needed. As the output, print\n",
        "\n",
        "*   The path or sequence of cities that will be infected by the spread of Coronavirus.\n",
        "*   The distance travelled by the selected virus spreading strategy.\n",
        "\n",
        "##Extra Credit (3 points)\n",
        "On the 2D graph and the Texas state map, overlay the selected path along with the cities visited."
      ]
    },
    {
      "cell_type": "code",
      "metadata": {
        "id": "XELGzRDftS77"
      },
      "source": [
        "# Implement ANY uninformed search strategy for the spread of coronavirus from the starting city of 'Three Rivers'\n"
      ],
      "execution_count": 5,
      "outputs": []
    },
    {
      "cell_type": "markdown",
      "metadata": {
        "id": "YCsUNyl3KWrb"
      },
      "source": [
        "#Vaccine Transportation - Informed Search Agent\n",
        "\n",
        "##(40 points)\n",
        "\n",
        "In this section, you will create an *informed search* agent that will be used to transport the vaccine. The city of **San Antonio** has more supply of vaccine than the demand. The goal is to create an **optimal strategy** to transport the vaccine and make it available at the highly affected city of **College Station**, where there is a shortage of vaccines.\n",
        "\n",
        "In the following code block, write code to implement an **optimal** informed search strategy. You are free to create more code blocks if needed. As the output, print\n",
        "\n",
        "*   The path / sequence of cities that will be visited in the optimal vaccine transportation strategy.\n",
        "*   The total distance travelled in the optimal vaccine transportation strategy.\n",
        "\n",
        "\n",
        "##Extra Credit (3 points)\n",
        "On the 2D graph and the Texas state map, overlay the selected path along with the cities visited."
      ]
    },
    {
      "cell_type": "code",
      "metadata": {
        "id": "oYcy29SdK3Xn"
      },
      "source": [
        "# Implement an OPTIMAL informed search strategy for distributing the vaccine from 'San Antonio' to 'College Station'\n"
      ],
      "execution_count": 6,
      "outputs": []
    },
    {
      "cell_type": "markdown",
      "metadata": {
        "id": "YJSFgNBQrhQU"
      },
      "source": [
        "#Submission Instructions\n",
        "\n",
        "1.   Complete all tasks above - **File MUST contain the output for ALL cells**\n",
        "2.   Export this notebook as .ipynb\n",
        "      (File > Download as ipynb)\n",
        "3.   Upload the .ipynb file on Blackboard"
      ]
    },
    {
      "cell_type": "markdown",
      "metadata": {
        "id": "0lGvLE9H6ptL"
      },
      "source": [
        "##Rubric\n",
        "\n",
        "*   (45 points) Reading Data files & Creating a 2D Graph\n",
        "*   (40 points) Virus Spread - Uninformed Search Agent\n",
        "*   (40 points) Vaccine Transportation - Informed Search Agent\n",
        "*   (10 points) Extra Credit - on the Texas map image, overlay the 2D graph and the paths selected by the search agents\n",
        "\n",
        "\n",
        "\n"
      ]
    }
  ]
}